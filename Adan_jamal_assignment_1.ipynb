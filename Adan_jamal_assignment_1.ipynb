{
 "cells": [
  {
   "cell_type": "markdown",
   "metadata": {},
   "source": [
    "* __INSTRUCTIONS:__\n",
    "\n",
    "\n",
    "    * Add your code as indicated in each cell.\n",
    "\n",
    "\n",
    "    * Besides adding your code, do not alter this file.\n",
    "\n",
    "\n",
    "    * Do not delete or change test cases. Once you are done with the assignment, you can run the test cases to see if you programmed the questions correctly.\n",
    "\n",
    "\n",
    "    * If you get a question wrong, do not give up. Keep trying until you pass the test cases.\n",
    "\n",
    "\n",
    "    * Rename the file as firstname_lastname_assignmentid.ipynb (e.g., marina_johnson_assignment1.ipynb)\n",
    "\n",
    "\n",
    "    * Only submit .ipynb files (no .py files)\n",
    "\n",
    "\n",
    "    * Do not import and use any libraries. For pi in question 3, use 3.1415 "
   ]
  },
  {
   "cell_type": "markdown",
   "metadata": {},
   "source": [
    "* __GENERAL TIPS - READ IT BEFORE YOU START__\n",
    "\n",
    "\n",
    "\n",
    "    *  Functions must return the result - Not print it. Sometimes students print the result instead of returning, which is wrong. Make sure your functions return the results.\n",
    "    \n",
    "    \n",
    "    \n",
    "    * Functions must have indentations. Check the code below. This function checks if a given number is negative or not. If negative, it returns -1 else 1. This function is coded wrong because the function does not have any intendaton. Plus, if and else statements do not have any indentation. So make sure your indentations are correct.\n",
    "    \n",
    "\n",
    "\n",
    "```PYTHON\n",
    "def is_negative(number):\n",
    "if number<0:\n",
    "return -1\n",
    "else\n",
    "return 1\n",
    "```\n",
    "\n",
    "\n",
    "    * Let us code this function correctly.\n",
    "\n",
    "```PYTHON\n",
    "def is_negative(number):\n",
    "    if number<0:\n",
    "        return -1\n",
    "    else:\n",
    "        return 1\n",
    "```\n",
    "\n",
    "\n",
    "\n",
    "* Another thing students do is to hardcode the questions. Function arguments are given in the parenthesis when defining functions. We set the values when we call the functions. Do not hard code them. For example, the function below is supposed to compute the area of a square. However, this question is coded wrong because it is hard-coded. It will always return the same result (9) even when the side (a) is set to be different such as 4, or 2.\n",
    "\n",
    "\n",
    "\n",
    "```PYTHON\n",
    "def get_square_area(a):\n",
    "    a = 3 # this is hard coded. never do this\n",
    "    area = a*a\n",
    "    return area\n",
    "```\n",
    "\n",
    "\n",
    "    * Let us code this function correctly.\n",
    "\n",
    "``` Python\n",
    "def get_square_area(a):\n",
    "    area = a*a\n",
    "    return area\n",
    "```"
   ]
  },
  {
   "cell_type": "code",
   "execution_count": 28,
   "metadata": {},
   "outputs": [],
   "source": [
    "# Do not delete this cell. You have to run this cell to test your code in the test cases. \n",
    "score = dict()"
   ]
  },
  {
   "cell_type": "markdown",
   "metadata": {},
   "source": [
    "# Question 1\n",
    "* This question assesses whether or not you understand the strings in Python\n",
    "* The code you need is discussed in Module 1. \n",
    "* You may need specific string operators such as find, split, strip, etc. to determine if the word is within the text.\n",
    "* You may need an \"if... else...\" statement to indicate what to return (1 or -1) \n",
    "* Particularly, check the video __m1e string operations, m2e conditional statements, and m2f examples.__  "
   ]
  },
  {
   "cell_type": "code",
   "execution_count": 29,
   "metadata": {},
   "outputs": [],
   "source": [
    "# This function will search the given text in order to find a given word\n",
    "\n",
    "def is_word_there(text, word):\n",
    "    \n",
    "    \"\"\" \n",
    "        What it takes?\n",
    "            a text to be searched\n",
    "            a word to be searched within a text\n",
    "            \n",
    "        what it does?\n",
    "            searches if a word occurs in a text\n",
    "            \n",
    "        What it returns?\n",
    "            returns 1 if word is in the text.\n",
    "            returns -1 if word is not in the text\n",
    "    \"\"\"\n",
    "    \n",
    "    # your code goes in here\n",
    "    if word in text:\n",
    "        return 1\n",
    "    else:\n",
    "        return -1\n",
    "    "
   ]
  },
  {
   "cell_type": "markdown",
   "metadata": {},
   "source": [
    "## Test Case for Question 1. Do not delete or alter the cell below"
   ]
  },
  {
   "cell_type": "code",
   "execution_count": 30,
   "metadata": {},
   "outputs": [
    {
     "data": {
      "text/plain": [
       "1"
      ]
     },
     "execution_count": 30,
     "metadata": {},
     "output_type": "execute_result"
    }
   ],
   "source": [
    "score = dict()\n",
    "\n",
    "text = \"\"\" Python is an amazing programming language. \n",
    "            Python is also one of the primary languages in the data analysis field\"\"\"\n",
    "\n",
    "word = \"amazing\"\n",
    "\n",
    "try:\n",
    "    if is_word_there(text, word) ==1:\n",
    "        score['question 1'] = 'pass'\n",
    "    else:\n",
    "        score['question 1'] = 'fail'\n",
    "except:\n",
    "    score['question 1'] = 'fail'\n",
    "    \n",
    "is_word_there(text, word)"
   ]
  },
  {
   "cell_type": "markdown",
   "metadata": {},
   "source": [
    "###################################################################################################################"
   ]
  },
  {
   "cell_type": "markdown",
   "metadata": {},
   "source": [
    "# Question 2\n",
    "* This question assesses whether or not you understand the strings in Python\n",
    "* The code you need is discussed in Module 1. \n",
    "* You may need specific string operators such as find, split, strip, find, count, etc. to determine if the word is within the text.\n",
    "* If you wish, you can use a for loop to count the number of words within a text. However, using the count operator could be easier.\n",
    "* Particularly, check the video __m1e string operations, m2e conditional statements, m2b for loops, and m2f examples.__\n",
    "\n",
    "check below:\n",
    "https://www.programiz.com/python-programming/methods/string/count"
   ]
  },
  {
   "cell_type": "code",
   "execution_count": 31,
   "metadata": {},
   "outputs": [],
   "source": [
    "# This function will go over the text \n",
    "# and count the number of occurances of a given word\n",
    "\n",
    "def count_word(text, word):\n",
    "    \n",
    "    \"\"\"\n",
    "       What it takes?\n",
    "            a text to be searched\n",
    "            a word to be searched within a text\n",
    "\n",
    "       what it does?\n",
    "            finds how many times a word occurs in a text\n",
    "            for example, the text is \n",
    "\n",
    "            'I like to play football. \n",
    "            I also like to watch football. \n",
    "            My favorite football team is Eagles.'\n",
    "\n",
    "            let's say the word to be searched is football. \n",
    "            then, the function should return 3.\n",
    "\n",
    "       What it returns?\n",
    "            return the number of word counts in a text. \n",
    "            It will return an integer\n",
    "            if the word does not in the text, return -1.\n",
    "    \"\"\"\n",
    "    \n",
    "    # your code goes in here\n",
    "    words = text.split()\n",
    "    count = 0\n",
    "    for w in words:\n",
    "        if w == word:\n",
    "            count += 1\n",
    "    if count == 0:\n",
    "        return -1\n",
    "    else:\n",
    "        return count\n",
    "\n",
    "    \n",
    "                \n"
   ]
  },
  {
   "cell_type": "markdown",
   "metadata": {},
   "source": [
    "## Test Case for Question 2. Do not delete or alter the cell below"
   ]
  },
  {
   "cell_type": "code",
   "execution_count": 32,
   "metadata": {},
   "outputs": [
    {
     "data": {
      "text/plain": [
       "2"
      ]
     },
     "execution_count": 32,
     "metadata": {},
     "output_type": "execute_result"
    }
   ],
   "source": [
    "word = \"Python\"\n",
    "\n",
    "try:\n",
    "    if count_word(text, word) ==2:\n",
    "        score['question 2'] = 'pass'\n",
    "    else:\n",
    "        score['question 2'] = 'fail'\n",
    "except:\n",
    "    score['question 2'] = 'fail'\n",
    "    \n",
    "count_word(text, word)"
   ]
  },
  {
   "cell_type": "markdown",
   "metadata": {},
   "source": [
    "###################################################################################################################"
   ]
  },
  {
   "cell_type": "markdown",
   "metadata": {},
   "source": [
    "# Question 3\n",
    "* This question assesses if you can work with numbers in Python\n",
    "* You may need to define pi first. You can hard-code pi first as 3.1415 because its value will always be the same\n",
    "* You can return the area as pi times r squared\n",
    "* Remember no to hard-code r. r will be given when we call the function. It can be any value such as 6, 7.89, 98.45, etc.\n",
    "* Check videos __m1c operations of primitive data types and  m2f examples.__ "
   ]
  },
  {
   "cell_type": "code",
   "execution_count": 33,
   "metadata": {},
   "outputs": [],
   "source": [
    "# given a radius, find the area of a circle\n",
    "\n",
    "\n",
    "def get_area_circle(r):\n",
    "    \n",
    "    \"\"\"\n",
    "        what it takes\n",
    "            radius of a circle (any positive real number)\n",
    "\n",
    "        what it does:\n",
    "            computes the area of a circle\n",
    "            given a radius, find the area of a circle\n",
    "            area = pi*r2 (pi times r squared)\n",
    "\n",
    "        what it returns\n",
    "            area of a circle. Any positive real number (float)\n",
    "    \"\"\"\n",
    "    \n",
    "    # your code goes in here\n",
    "    area = 3.142 * r ** 2\n",
    "    return area\n",
    "    \n",
    "    "
   ]
  },
  {
   "cell_type": "markdown",
   "metadata": {},
   "source": [
    "## Test Case for Question 3. Do not delete or alter the cell below"
   ]
  },
  {
   "cell_type": "code",
   "execution_count": 34,
   "metadata": {},
   "outputs": [
    {
     "data": {
      "text/plain": [
       "78.55"
      ]
     },
     "execution_count": 34,
     "metadata": {},
     "output_type": "execute_result"
    }
   ],
   "source": [
    "try:\n",
    "    if ((get_area_circle(5) > 78) and  (get_area_circle(5)<79)):\n",
    "        score['question 3'] = 'pass'\n",
    "    else:\n",
    "        score['question 3'] = 'fail'\n",
    "except:\n",
    "    score['question 3'] = 'fail'\n",
    "    \n",
    "get_area_circle(5)"
   ]
  },
  {
   "cell_type": "markdown",
   "metadata": {},
   "source": [
    "###################################################################################################################"
   ]
  },
  {
   "cell_type": "markdown",
   "metadata": {},
   "source": [
    "# Question 4\n",
    "* This question assesses if you understand for loops. \n",
    "* Your goal is to multiply numbers from 1 to a given number\n",
    "* if the number is 4, you will need to multiply 1, 2, 3, and 4, and return 24. If the number is 6, you will multiply 1, 2, 3, 4, 5, 6, and return 720.\n",
    "* You may need to use a while loop.\n",
    "* Recall that 0! is 1. so if the number is 0, you need to return 1.\n",
    "* Some examples\n",
    "    * 0!=1\n",
    "    * 1!=1\n",
    "    * 2!=2.1=1\n",
    "    * 3!=3.2.1=6\n",
    "    * 4!=4.3.2.1=24\n",
    "* You may want to check videos __m2f examples, m2c while loop, m2e conditional statements__"
   ]
  },
  {
   "cell_type": "code",
   "execution_count": 35,
   "metadata": {},
   "outputs": [],
   "source": [
    "# Given a number, this function will compute the factorial\n",
    "\n",
    "def get_factorial(number):\n",
    "    \n",
    "    \"\"\"\n",
    "        what it takes?\n",
    "            number to calculate its factorial\n",
    "\n",
    "        what it does?\n",
    "            given a number, find its factorial such as 5! = 20\n",
    "            Do not use a python built-in function - code it\n",
    "\n",
    "        what it returns?\n",
    "            factorial of a number\n",
    "            5! shoukld return 120\n",
    "            It will return integer\n",
    "    \"\"\"\n",
    "    \n",
    "    # your code goes in here\n",
    "    factorial = 1\n",
    "    for i in range(1, number+1):\n",
    "        factorial *= i\n",
    "    return factorial\n",
    "\n",
    "    \n",
    "    "
   ]
  },
  {
   "cell_type": "markdown",
   "metadata": {},
   "source": [
    "## Test Case for Question 4. Do not delete or alter the cell below"
   ]
  },
  {
   "cell_type": "code",
   "execution_count": 36,
   "metadata": {},
   "outputs": [
    {
     "data": {
      "text/plain": [
       "120"
      ]
     },
     "execution_count": 36,
     "metadata": {},
     "output_type": "execute_result"
    }
   ],
   "source": [
    "try:\n",
    "    if get_factorial(5) == 120:\n",
    "        score['question 4'] = 'pass'\n",
    "    else:\n",
    "        score['question 4'] = 'fail'\n",
    "except:        \n",
    "    score['question 4'] = 'fail'\n",
    "\n",
    "get_factorial(5)"
   ]
  },
  {
   "cell_type": "markdown",
   "metadata": {},
   "source": [
    "###################################################################################################################"
   ]
  },
  {
   "cell_type": "markdown",
   "metadata": {},
   "source": [
    "# Question 5\n",
    "* This question assesses if you understand the loops, particularly for loops)\n",
    "* Assume list1 and list2 are equal size and contain only numbers\n",
    "* You will need to use a for loop to access the elements of each list ad sum them up.\n",
    "* You will return a new list  that will be the sum of the two lists elementwise\n",
    "* You may need to use a for loop, append() operator, etc. \n",
    "* You may need to check __m2f examples, m2b for loops, and m1f python lists__"
   ]
  },
  {
   "cell_type": "code",
   "execution_count": 37,
   "metadata": {},
   "outputs": [],
   "source": [
    "# This function will sum the lists elementwise\n",
    "\n",
    "def sum_lists(list1, list2):\n",
    "    \n",
    "    \"\"\"\n",
    "        What it takes?\n",
    "            two lists of numbers\n",
    "\n",
    "        What it does?\n",
    "            given that list1 and list 2 are equal sizes\n",
    "            get the sum of these two lists elementwise\n",
    "\n",
    "        What it returns?\n",
    "            for example:\n",
    "            list1 = [1, 6, 12]\n",
    "            list2 = [4, 2, 14]\n",
    "            your sum should return\n",
    "            [5, 8, 26]\n",
    "            it will return a LIST\n",
    "    \"\"\"\n",
    "    sum_list = []\n",
    "    for i in range(len(list1)):\n",
    "        sum_list.append(list1[i] + list2[i])\n",
    "    return sum_list\n",
    "    \n",
    "    return"
   ]
  },
  {
   "cell_type": "markdown",
   "metadata": {},
   "source": [
    "## Test Case for Question 5. Do not delete or alter the cell below"
   ]
  },
  {
   "cell_type": "code",
   "execution_count": 38,
   "metadata": {},
   "outputs": [
    {
     "data": {
      "text/plain": [
       "[11, 13, 15]"
      ]
     },
     "execution_count": 38,
     "metadata": {},
     "output_type": "execute_result"
    }
   ],
   "source": [
    "try:\n",
    "    if sum_lists([1,2, 3], [10, 11, 12]) == [11, 13, 15]:\n",
    "        score['question 5'] = 'pass'\n",
    "    else:\n",
    "        score['question 5'] = 'fail'\n",
    "except:\n",
    "    score['question 5'] = 'fail'\n",
    "    \n",
    "sum_lists([1, 2, 3], [10, 11, 12])"
   ]
  },
  {
   "cell_type": "markdown",
   "metadata": {},
   "source": [
    "###################################################################################################################"
   ]
  },
  {
   "cell_type": "markdown",
   "metadata": {},
   "source": [
    "# Question 6\n",
    "* This question assesses if you understand the if statements\n",
    "* You need to use the modulus operator that gives the remainder (%)\n",
    "* Also recall how we decide if a number is odd or even. We need to divide the number by 2 and check the remainder. If the remainder is 0, then the number is even. We can do this using the % operator\n",
    "* You may want to check the videos __m2e conditional statements, m2f examples, and m1c operations of primitive data types__"
   ]
  },
  {
   "cell_type": "code",
   "execution_count": 39,
   "metadata": {},
   "outputs": [],
   "source": [
    "# This function checks whether a given number is even or not\n",
    "\n",
    "def isEven(number):  \n",
    "\n",
    "    \"\"\"\n",
    "        what it takes?\n",
    "            a number \n",
    "\n",
    "        what it does?\n",
    "            determines if a number is even\n",
    "\n",
    "        what it returns?\n",
    "            if even, return 1\n",
    "            if odd, return -1 \n",
    "    \"\"\"\n",
    "    \n",
    "    # your code goes in here\n",
    "    if number % 2 == 0:\n",
    "        return 1\n",
    "    else:\n",
    "        return -1\n",
    "    \n",
    "    "
   ]
  },
  {
   "cell_type": "markdown",
   "metadata": {},
   "source": [
    "## Test Case for Question 6. Do not delete or alter the cell below"
   ]
  },
  {
   "cell_type": "code",
   "execution_count": 40,
   "metadata": {},
   "outputs": [
    {
     "data": {
      "text/plain": [
       "-1"
      ]
     },
     "execution_count": 40,
     "metadata": {},
     "output_type": "execute_result"
    }
   ],
   "source": [
    "try:\n",
    "    if isEven(5) == -1:\n",
    "        score['question 6'] = 'pass'\n",
    "    else:\n",
    "        score['question 6'] = 'fail'\n",
    "except:\n",
    "    score['question 6'] = 'fail'\n",
    "    \n",
    "isEven(5)"
   ]
  },
  {
   "cell_type": "markdown",
   "metadata": {},
   "source": [
    "###################################################################################################################"
   ]
  },
  {
   "cell_type": "markdown",
   "metadata": {},
   "source": [
    "# Question 7\n",
    "* This is the same question above. All you need to do is to flip the signs. \n",
    "* This question assesses if you understand the if statements\n",
    "* You need to use the modulus operator that gives the remainder (%)\n",
    "* Also recall how we decide if a number is odd or even. We need to divide the number by 2 and check the remainder. If the remainder is 0, then the number is even. We can do this using the % operator\n",
    "* You may want to check the videos __m2e conditional statements, m2f examples, and m1c operations of primitive data types__"
   ]
  },
  {
   "cell_type": "code",
   "execution_count": 41,
   "metadata": {},
   "outputs": [],
   "source": [
    "# This function checks whether a given number is odd or not\n",
    "\n",
    "def isOdd(number):\n",
    "        \n",
    "    \"\"\"\n",
    "        what it takes?\n",
    "            a number \n",
    "\n",
    "        what it does?\n",
    "            determines if a number is odd\n",
    "\n",
    "        what it returns?\n",
    "            if even, return -1\n",
    "            if odd, return 1 \n",
    "    \"\"\"\n",
    "    \n",
    "    # your code goes in here\n",
    "    if number % 2 == 1:\n",
    "        return 1\n",
    "    else:\n",
    "        return -1\n",
    "\n",
    "    \n"
   ]
  },
  {
   "cell_type": "markdown",
   "metadata": {},
   "source": [
    "## Test Case for Question 7. Do not delete or alter the cell below"
   ]
  },
  {
   "cell_type": "code",
   "execution_count": 42,
   "metadata": {},
   "outputs": [
    {
     "data": {
      "text/plain": [
       "1"
      ]
     },
     "execution_count": 42,
     "metadata": {},
     "output_type": "execute_result"
    }
   ],
   "source": [
    "try:\n",
    "    if isOdd(5) == 1:\n",
    "        score['question 7'] = 'pass'\n",
    "    else:\n",
    "        score['question 7'] = 'fail'\n",
    "except:\n",
    "    score['question 7'] = 'fail'\n",
    "isOdd(5)"
   ]
  },
  {
   "cell_type": "markdown",
   "metadata": {},
   "source": [
    "###################################################################################################################"
   ]
  },
  {
   "cell_type": "markdown",
   "metadata": {},
   "source": [
    "# Question 8\n",
    "* This question assesses if you understand the list operations\n",
    "* Do not use the stdev() operator because you are required to code this function from scratch.\n",
    "* You may need to use an operator for lists such as sum() and len()\n",
    "* You will need to use a for loop\n",
    "* you may need to check the videos __m2f examples, m1f python lists, and m2b for loops__"
   ]
  },
  {
   "cell_type": "code",
   "execution_count": 43,
   "metadata": {},
   "outputs": [],
   "source": [
    "def compute_stdev(a_list):\n",
    "    \n",
    "    \"\"\"\n",
    "    What it takes?\n",
    "        a list of numbers\n",
    "    \n",
    "    what it does?\n",
    "        given a list of numbers compute the standard deviation\n",
    "\n",
    "        (find the formula for standard deviation online \n",
    "        if you dont remember it)\n",
    "\n",
    "        Here are the steps that you will follow:\n",
    "\n",
    "        1. find the mean of the numbers\n",
    "        2. subtract the mean from each numbers \n",
    "        3. square the differences\n",
    "        4. sum the differences\n",
    "        5. divide by (the size (len) of the list - 1)\n",
    "            if there are 5 items in the list, divide it by 4\n",
    "        6. take the square root of the result\n",
    "        7. return it\n",
    "    \n",
    "    what it returns?\n",
    "        a number (float), which is the standard deviation\n",
    "    \n",
    "    \"\"\"\n",
    "    \n",
    "    # your code goes in here\n",
    "    if is_word_there(text, word) == -1:\n",
    "        return -1\n",
    "    else:\n",
    "        count = 0\n",
    "        words = text.split()\n",
    "        for w in words:\n",
    "            if w.strip(\",.;:!?\") == word:\n",
    "                count += 1\n",
    "        return count\n",
    "\n",
    "    \n"
   ]
  },
  {
   "cell_type": "markdown",
   "metadata": {},
   "source": [
    "## Test Case for Question 8. Do not delete or alter the cell below"
   ]
  },
  {
   "cell_type": "code",
   "execution_count": 44,
   "metadata": {},
   "outputs": [
    {
     "data": {
      "text/plain": [
       "2"
      ]
     },
     "execution_count": 44,
     "metadata": {},
     "output_type": "execute_result"
    }
   ],
   "source": [
    "try:\n",
    "    if (compute_stdev([5, 4, 8, 3]) > 2.160) and (compute_stdev([5, 4, 8, 3]) < 2.162):\n",
    "        score['question 8'] = 'pass'\n",
    "    else:\n",
    "        score['question 8'] = 'fail'\n",
    "except:\n",
    "    score['question 8'] = 'fail'\n",
    "\n",
    "compute_stdev([5, 4, 8, 3])"
   ]
  },
  {
   "cell_type": "markdown",
   "metadata": {},
   "source": [
    "###################################################################################################################"
   ]
  },
  {
   "cell_type": "markdown",
   "metadata": {},
   "source": [
    "# Question 9\n",
    "* This question assesses if you understand basic list operations such max() and min()\n",
    "* All you need to do is finding the maximum and minimum numbers in a given list and take the difference\n",
    "* You may need to watch the videos __m2f examples and m1f python lists__"
   ]
  },
  {
   "cell_type": "code",
   "execution_count": 45,
   "metadata": {},
   "outputs": [],
   "source": [
    "# find the range\n",
    "def compute_range(a_list):\n",
    "    \n",
    "    \"\"\"\n",
    "    what it takes?\n",
    "        a list of numbers\n",
    "    \n",
    "    what it does?\n",
    "        for a given list of numbers, find the range\n",
    "        remember range is maximum number - minimum number\n",
    "    \n",
    "    what it returns?\n",
    "        a number (float or integer depending on the numbers)\n",
    "    \n",
    "    \"\"\"\n",
    "    \n",
    "    # your code goes in here\n",
    "     # find the range\n",
    "    range_value = max(a_list) - min(a_list)\n",
    "    \n",
    "    # find the mean\n",
    "    mean_value = sum(a_list) / len(a_list)\n",
    "    \n",
    "    # find the differences from the mean\n",
    "    diff_from_mean = [x - mean_value for x in a_list]\n",
    "    \n",
    "    # find the squared differences from the mean\n",
    "    squared_diff_from_mean = [x**2 for x in diff_from_mean]\n",
    "    \n",
    "    # find the sum of squared differences\n",
    "    sum_squared_diff = sum(squared_diff_from_mean)\n",
    "    \n",
    "    # find the variance\n",
    "    variance = sum_squared_diff / (len(a_list) - 1)\n",
    "    \n",
    "    # find the standard deviation\n",
    "    stdev = variance**(0.5)\n",
    "    \n",
    "    return (range_value, stdev)\n",
    "\n",
    "    \n",
    "    \n",
    "    \n",
    "    return"
   ]
  },
  {
   "cell_type": "markdown",
   "metadata": {},
   "source": [
    "## Test Case for Question 9. Do not delete or alter the cell below"
   ]
  },
  {
   "cell_type": "code",
   "execution_count": 46,
   "metadata": {},
   "outputs": [
    {
     "data": {
      "text/plain": [
       "(7, 3.1622776601683795)"
      ]
     },
     "execution_count": 46,
     "metadata": {},
     "output_type": "execute_result"
    }
   ],
   "source": [
    "try:\n",
    "    if compute_range([2, 5, 8, 1]) == 7:\n",
    "        score['question 9'] = 'pass'\n",
    "    else:\n",
    "        score['question 9'] = 'fail'\n",
    "except:\n",
    "    score['question 9'] = 'fail'\n",
    "    \n",
    "compute_range([2, 5, 8, 1])"
   ]
  },
  {
   "cell_type": "markdown",
   "metadata": {},
   "source": [
    "###################################################################################################################"
   ]
  },
  {
   "cell_type": "markdown",
   "metadata": {},
   "source": [
    "# Question 10\n",
    "* This question assesses if you understand string and set operations\n",
    "* You will need to use string functions such as lower, strip, split, etc.\n",
    "* You may need to use set functions such as set() intersection(), etc.\n",
    "* You may need to watch __m2f examples, m1e string operators, m1f python lists, and m1g python sets__"
   ]
  },
  {
   "cell_type": "code",
   "execution_count": 47,
   "metadata": {},
   "outputs": [],
   "source": [
    "# compare documents and find common words\n",
    "def get_common_words(text1, text2):\n",
    "    \n",
    "    \"\"\"\n",
    "    What it takes as an argument?\n",
    "        two text variables\n",
    "    \n",
    "    what it does?\n",
    "        find common words occuring in both texts\n",
    "    \n",
    "    What it returns?\n",
    "        must return a LIST of common words\n",
    "    \"\"\"\n",
    "    \n",
    "    # your code goes in here\n",
    "    # split texts into words and remove punctuation\n",
    "    text1_words = text1.lower().replace(\".\", \"\").replace(\",\", \"\").split()\n",
    "    text2_words = text2.lower().replace(\".\", \"\").replace(\",\", \"\").split()\n",
    "    \n",
    "    # find common words using set intersection\n",
    "    common_words = list(set(text1_words) & set(text2_words))\n",
    "    \n",
    "    return common_words\n",
    "\n",
    "    \n",
    "    \n",
    "    \n",
    "    return"
   ]
  },
  {
   "cell_type": "markdown",
   "metadata": {},
   "source": [
    "## Test Case for Question 10. Do not delete or alter the cell below"
   ]
  },
  {
   "cell_type": "code",
   "execution_count": 48,
   "metadata": {},
   "outputs": [
    {
     "data": {
      "text/plain": [
       "['the', 'python', 'is', 'amazing', 'of', 'in']"
      ]
     },
     "execution_count": 48,
     "metadata": {},
     "output_type": "execute_result"
    }
   ],
   "source": [
    "text1 = \"\"\" Python is an amazing programming language. \n",
    "            It is also one of the primary languages in the data analysis field\"\"\"\n",
    "\n",
    "text2 = \"Python is a genus of constricting snakes in the Pythonidae family. You can find amazing pictures of python snakes in this link\"\n",
    "try:\n",
    "    if sorted(get_common_words(text1, text2)) == sorted(['amazing', 'of', 'the', 'is', 'python', 'in']):\n",
    "        score['question 10'] = 'pass'\n",
    "    else:\n",
    "        score['question 10'] = 'fail'\n",
    "except:\n",
    "    score['question 10'] = 'fail'\n",
    "    \n",
    "get_common_words(text1, text2)"
   ]
  },
  {
   "cell_type": "markdown",
   "metadata": {},
   "source": [
    "###################################################################################################################"
   ]
  },
  {
   "cell_type": "markdown",
   "metadata": {},
   "source": [
    "# Total Score"
   ]
  },
  {
   "cell_type": "code",
   "execution_count": 49,
   "metadata": {},
   "outputs": [
    {
     "name": "stdout",
     "output_type": "stream",
     "text": [
      "your total score is:  80\n"
     ]
    }
   ],
   "source": [
    "total_score = 0\n",
    "for i in list(score.values()):\n",
    "    if i=='pass':\n",
    "        total_score = total_score + 10\n",
    "print('your total score is: ', total_score)"
   ]
  },
  {
   "cell_type": "code",
   "execution_count": null,
   "metadata": {},
   "outputs": [],
   "source": []
  }
 ],
 "metadata": {
  "kernelspec": {
   "display_name": "Python 3 (ipykernel)",
   "language": "python",
   "name": "python3"
  },
  "language_info": {
   "codemirror_mode": {
    "name": "ipython",
    "version": 3
   },
   "file_extension": ".py",
   "mimetype": "text/x-python",
   "name": "python",
   "nbconvert_exporter": "python",
   "pygments_lexer": "ipython3",
   "version": "3.10.9"
  },
  "toc": {
   "nav_menu": {},
   "number_sections": true,
   "sideBar": true,
   "skip_h1_title": false,
   "toc_cell": false,
   "toc_position": {},
   "toc_section_display": "block",
   "toc_window_display": false
  },
  "varInspector": {
   "cols": {
    "lenName": 16,
    "lenType": 16,
    "lenVar": 40
   },
   "kernels_config": {
    "python": {
     "delete_cmd_postfix": "",
     "delete_cmd_prefix": "del ",
     "library": "var_list.py",
     "varRefreshCmd": "print(var_dic_list())"
    },
    "r": {
     "delete_cmd_postfix": ") ",
     "delete_cmd_prefix": "rm(",
     "library": "var_list.r",
     "varRefreshCmd": "cat(var_dic_list()) "
    }
   },
   "types_to_exclude": [
    "module",
    "function",
    "builtin_function_or_method",
    "instance",
    "_Feature"
   ],
   "window_display": false
  }
 },
 "nbformat": 4,
 "nbformat_minor": 2
}
